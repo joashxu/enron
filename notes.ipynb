{
 "cells": [
  {
   "cell_type": "markdown",
   "metadata": {},
   "source": [
    "# Identify fraud from Enron email\n",
    "\n",
    "\n",
    "### Abstract\n",
    "\n",
    "\n",
    "**1. Project goal**\n",
    "\n",
    "The goal for this project is to classify person of interest from the dataset.\n",
    "The original dataset has 146 rows and 21 features. On exploring I found 2 entries in the data that I remove.\n",
    "\n",
    "One entries 'TOTAL' is most likely a spreadsheet quirk. And another one 'THE TRAVEL AGENCY IN THE PARK' is most likely inputted by mistake. I also remove another entry, 'LOCKHART EUGENE E', because it does not seems to have any other information (most field is NaN, and POI is False).\n",
    "\n",
    "**2. Features**\n",
    "\n",
    "In the end I am using 4 features, they are:\n",
    "- exercised_stock_options\n",
    "- total_stock_value\n",
    "- bonus\n",
    "- salary\n",
    "\n",
    "The data has 21 features. I first reduce this to 14 by excluding features that has little information, 60% or more of the data are NaN. I then added 2 new features. The new features are based on the existing features.\n",
    "There are 'from_poi_to_this_person' and 'from_this_person_to_poi' features.\n",
    "The features are not that helpful. So I added two new features that scale these features by the total number.\n",
    "\n",
    "I did not do scaling to any of the features (I did try to add it when running Linear SVM to see if it can improve the result). I think the data is highly skewed, there are only a handful of POI. And those people usually are outliers in term of bonus, salary, etc. This lead me to believe no scaling is needed.\n",
    "\n",
    "I then run SelectKbest algorithm to reduce this to 4. I feel like this is a good number to start, and the plan was to start with 4 and then slowly add more features if needed.\n",
    "\n",
    "The top 4 features scores are:\n",
    "\n",
    "- exercised_stock_options: 24.815079733218194\n",
    "- total_stock_value: 24.182898678566879\n",
    "- bonus: 20.792252047181535\n",
    "- salary 18.289684043404513\n",
    "\n",
    "**3. Algorithm**\n",
    "\n",
    "I used 3 algorithm:\n",
    "\n",
    "- Gaussian Naive Bayes\n",
    "- Linear SVC\n",
    "- KNeighborsClassifier\n",
    "\n",
    "I started out using Gaussian Naive Bayes, I then try to use Linear SVC before moving to KNeighbors\n",
    "The result of the Linear SVC is the worst, both GNB and KNeighbors get the level of Precision and Recall that we set.\n",
    "\n",
    "**4. Parameter tuning**\n",
    "\n",
    "For my selected algorithm KNeighbors, I run the algorithm to give me a baseline and the result without parameter tunnings are:\n",
    "    \n",
    "Precision: 0.65971\tRecall: 0.26850\n",
    "\n",
    "I then run GridSearchCV to tune the parameter. The parameters before and after tuning is almost the same except the weight parameters. Even so, there is quite an improvement. Our result after tuning:\n",
    "\n",
    "Precision: 0.69602\tRecall: 0.36750\n",
    "\n",
    "**5. Validation**\n",
    "\n",
    "Validation is a process where we split data into 2 partitions, training and testing, and then use training for our  algorithm of choice and then use the testing partition to get the result. Without this process the algorithm might predict a good score but failed anything useful beyond the seen data or *overfitting*.\n",
    "\n",
    "In this project I utilize scikit-learn StratifiedShuffleSplit.\n",
    "Which will do rearrange the data as to ensure each fold is a good representative of the whole (stratification) and shuffle the data. \n",
    "\n",
    "**6. Evaluation**\n",
    "\n",
    "The project uses 2 evaluation metrics, Precision and Recall. To be specific, we aim to have better then 0.3 for both Precision and Recall.\n",
    "\n",
    "The result for the project are:\n",
    "- Precision: 0.69602\t\n",
    "- Recall: 0.36750\n",
    "\n",
    "That means when the algorithm mark someone as POI, the algorithm is correct for almost 70% of the time. \n",
    "We missed several POI, we got only around 36% correct POI out of all possible POI."
   ]
  },
  {
   "cell_type": "markdown",
   "metadata": {},
   "source": [
    "---"
   ]
  },
  {
   "cell_type": "markdown",
   "metadata": {},
   "source": [
    "For this project the aim is to get both the recall and precision **better then 0.3**.\n",
    "\n",
    "Before we do anything, let's run the most basic classifier used in the original poi_id.py. We will use this as baseline for further improvement."
   ]
  },
  {
   "cell_type": "code",
   "execution_count": 1,
   "metadata": {
    "collapsed": false
   },
   "outputs": [],
   "source": [
    "# Notebook stuff\n",
    "%matplotlib inline\n",
    "import matplotlib.pyplot as plt"
   ]
  },
  {
   "cell_type": "code",
   "execution_count": 2,
   "metadata": {
    "collapsed": false
   },
   "outputs": [
    {
     "name": "stdout",
     "output_type": "stream",
     "text": [
      "GaussianNB()\n",
      "\tAccuracy: 0.25560\tPrecision: 0.18481\tRecall: 0.79800\tF1: 0.30011\tF2: 0.47968\n",
      "\tTotal predictions: 10000\tTrue positives: 1596\tFalse positives: 7040\tFalse negatives:  404\tTrue negatives:  960\n",
      "\n"
     ]
    }
   ],
   "source": [
    "from sklearn.naive_bayes import GaussianNB\n",
    "from utils import setup_and_test, get_original_data\n",
    "\n",
    "# Get data\n",
    "data = get_original_data()\n",
    "# Use Gaussian NB, this is our baseline classifier\n",
    "clf = GaussianNB()\n",
    "# Print out the result\n",
    "setup_and_test(data, ['poi','salary'], clf)"
   ]
  },
  {
   "cell_type": "markdown",
   "metadata": {},
   "source": [
    "Okay we can see that the accuracy is not that great. And the precision is very low."
   ]
  },
  {
   "cell_type": "markdown",
   "metadata": {},
   "source": [
    "## 1. Dataset and questions\n",
    "\n",
    "I am going to explore the data to gain more understanding. I will utilize Pandas for this."
   ]
  },
  {
   "cell_type": "markdown",
   "metadata": {},
   "source": [
    "### 1.1 Basic information on the data"
   ]
  },
  {
   "cell_type": "code",
   "execution_count": 3,
   "metadata": {
    "collapsed": true
   },
   "outputs": [],
   "source": [
    "import pandas as pd\n",
    "import numpy as np"
   ]
  },
  {
   "cell_type": "code",
   "execution_count": 4,
   "metadata": {
    "collapsed": false
   },
   "outputs": [],
   "source": [
    "# Create dataframe from the original data.\n",
    "df = pd.DataFrame.from_dict(data).transpose()"
   ]
  },
  {
   "cell_type": "markdown",
   "metadata": {},
   "source": [
    "Let's check the basic information on our data now. We are interested in columns and summary of the data.\n",
    "Let's start with number of data and columns name."
   ]
  },
  {
   "cell_type": "code",
   "execution_count": 5,
   "metadata": {
    "collapsed": false
   },
   "outputs": [
    {
     "data": {
      "text/plain": [
       "146"
      ]
     },
     "execution_count": 5,
     "metadata": {},
     "output_type": "execute_result"
    }
   ],
   "source": [
    "# Data size\n",
    "len(df)"
   ]
  },
  {
   "cell_type": "code",
   "execution_count": 6,
   "metadata": {
    "collapsed": false
   },
   "outputs": [
    {
     "data": {
      "text/plain": [
       "Index([u'bonus', u'deferral_payments', u'deferred_income', u'director_fees',\n",
       "       u'email_address', u'exercised_stock_options', u'expenses',\n",
       "       u'from_messages', u'from_poi_to_this_person',\n",
       "       u'from_this_person_to_poi', u'loan_advances', u'long_term_incentive',\n",
       "       u'other', u'poi', u'restricted_stock', u'restricted_stock_deferred',\n",
       "       u'salary', u'shared_receipt_with_poi', u'to_messages',\n",
       "       u'total_payments', u'total_stock_value'],\n",
       "      dtype='object')"
      ]
     },
     "execution_count": 6,
     "metadata": {},
     "output_type": "execute_result"
    }
   ],
   "source": [
    "# Column/features\n",
    "df.columns"
   ]
  },
  {
   "cell_type": "markdown",
   "metadata": {},
   "source": [
    "Okay so we got **146 rows** and **21 features**.\n",
    "\n",
    "Let's take a look at the index."
   ]
  },
  {
   "cell_type": "code",
   "execution_count": 7,
   "metadata": {
    "collapsed": false,
    "scrolled": false
   },
   "outputs": [
    {
     "name": "stdout",
     "output_type": "stream",
     "text": [
      "ALLEN PHILLIP K           DODSON KEITH              KAMINSKI WINCENTY J       POWERS WILLIAM           \n",
      "BADUM JAMES P             DONAHUE JR JEFFREY M      KEAN STEVEN J             PRENTICE JAMES           \n",
      "BANNANTINE JAMES M        DUNCAN JOHN H             KISHKILL JOSEPH G         REDMOND BRIAN L          \n",
      "BAXTER JOHN C             DURAN WILLIAM D           KITCHEN LOUISE            REYNOLDS LAWRENCE        \n",
      "BAY FRANKLIN R            ECHOLS JOHN B             KOENIG MARK E             RICE KENNETH D           \n",
      "BAZELIDES PHILIP J        ELLIOTT STEVEN            KOPPER MICHAEL J          RIEKER PAULA H           \n",
      "BECK SALLY W              FALLON JAMES B            LAVORATO JOHN J           SAVAGE FRANK             \n",
      "BELDEN TIMOTHY N          FASTOW ANDREW S           LAY KENNETH L             SCRIMSHAW MATTHEW        \n",
      "BELFER ROBERT             FITZGERALD JAY L          LEFF DANIEL P             SHANKMAN JEFFREY A       \n",
      "BERBERIAN DAVID           FOWLER PEGGY              LEMAISTRE CHARLES         SHAPIRO RICHARD S        \n",
      "BERGSIEKER RICHARD P      FOY JOE                   LEWIS RICHARD             SHARP VICTORIA T         \n",
      "BHATNAGAR SANJAY          FREVERT MARK A            LINDHOLM TOD A            SHELBY REX               \n",
      "BIBI PHILIPPE A           FUGH JOHN L               LOCKHART EUGENE E         SHERRICK JEFFREY B       \n",
      "BLACHMAN JEREMY M         GAHN ROBERT S             LOWRY CHARLES P           SHERRIFF JOHN R          \n",
      "BLAKE JR. NORMAN P        GARLAND C KEVIN           MARTIN AMANDA K           SKILLING JEFFREY K       \n",
      "BOWEN JR RAYMOND M        GATHMANN WILLIAM D        MCCARTY DANNY J           STABLER FRANK            \n",
      "BROWN MICHAEL             GIBBS DANA R              MCCLELLAN GEORGE          SULLIVAN-SHAKLOVITZ COLLEEN\n",
      "BUCHANAN HAROLD G         GILLIS JOHN               MCCONNELL MICHAEL S       SUNDE MARTIN             \n",
      "BUTTS ROBERT H            GLISAN JR BEN F           MCDONALD REBECCA          TAYLOR MITCHELL S        \n",
      "BUY RICHARD B             GOLD JOSEPH               MCMAHON JEFFREY           THE TRAVEL AGENCY IN THE PARK\n",
      "CALGER CHRISTOPHER F      GRAMM WENDY L             MENDELSOHN JOHN           THORN TERENCE H          \n",
      "CARTER REBECCA C          GRAY RODNEY               METTS MARK                TILNEY ELIZABETH A       \n",
      "CAUSEY RICHARD A          HAEDICKE MARK E           MEYER JEROME J            TOTAL                    \n",
      "CHAN RONNIE               HANNON KEVIN P            MEYER ROCKFORD G          UMANOFF ADAM S           \n",
      "CHRISTODOULOU DIOMEDES    HAUG DAVID L              MORAN MICHAEL P           URQUHART JOHN A          \n",
      "CLINE KENNETH W           HAYES ROBERT E            MORDAUNT KRISTINA M       WAKEHAM JOHN             \n",
      "COLWELL WESLEY            HAYSLETT RODERICK J       MULLER MARK S             WALLS JR ROBERT H        \n",
      "CORDES WILLIAM R          HERMANN ROBERT J          MURRAY JULIA H            WALTERS GARETH W         \n",
      "COX DAVID                 HICKERSON GARY J          NOLES JAMES L             WASAFF GEORGE            \n",
      "CUMBERLAND MICHAEL S      HIRKO JOSEPH              OLSON CINDY K             WESTFAHL RICHARD K       \n",
      "DEFFNER JOSEPH M          HORTON STANLEY C          OVERDYKE JR JERE C        WHALEY DAVID A           \n",
      "DELAINEY DAVID W          HUGHES JAMES A            PAI LOU L                 WHALLEY LAWRENCE G       \n",
      "DERRICK JR. JAMES V       HUMPHREY GENE E           PEREIRA PAULO V. FERRAZ   WHITE JR THOMAS E        \n",
      "DETMERING TIMOTHY J       IZZO LAWRENCE L           PICKERING MARK R          WINOKUR JR. HERBERT S    \n",
      "DIETRICH JANET R          JACKSON CHARLENE R        PIPER GREGORY F           WODRASKA JOHN            \n",
      "DIMICHELE RICHARD G       JAEDICKE ROBERT           PIRO JIM                  WROBEL BRUCE             \n"
     ]
    }
   ],
   "source": [
    "# Check the Index\n",
    "index_list = list(df.index)\n",
    "index_list_len = len(index_list)\n",
    "split = index_list_len/4\n",
    "\n",
    "for col1, col2, col3, col4 in zip(index_list[0:split],\n",
    "                                  index_list[split:split*2],\n",
    "                                  index_list[split*2:split*3],\n",
    "                                  index_list[split*3:]):\n",
    "    print \"{0:<25s} {1:<25s} {2:<25s} {3:<25s}\".format(col1, col2, col3, col4)"
   ]
  },
  {
   "cell_type": "markdown",
   "metadata": {},
   "source": [
    "There are 2 weird index names here.\n",
    "One 'TOTAL' and the other is 'THE TRAVEL AGENCY IN THE PARK'. \n",
    "\n",
    "Let's take a peek at those."
   ]
  },
  {
   "cell_type": "code",
   "execution_count": 8,
   "metadata": {
    "collapsed": false
   },
   "outputs": [
    {
     "data": {
      "text/plain": [
       "bonus                           NaN\n",
       "deferral_payments               NaN\n",
       "deferred_income                 NaN\n",
       "director_fees                   NaN\n",
       "email_address                   NaN\n",
       "exercised_stock_options         NaN\n",
       "expenses                        NaN\n",
       "from_messages                   NaN\n",
       "from_poi_to_this_person         NaN\n",
       "from_this_person_to_poi         NaN\n",
       "loan_advances                   NaN\n",
       "long_term_incentive             NaN\n",
       "other                        362096\n",
       "poi                           False\n",
       "restricted_stock                NaN\n",
       "restricted_stock_deferred       NaN\n",
       "salary                          NaN\n",
       "shared_receipt_with_poi         NaN\n",
       "to_messages                     NaN\n",
       "total_payments               362096\n",
       "total_stock_value               NaN\n",
       "Name: THE TRAVEL AGENCY IN THE PARK, dtype: object"
      ]
     },
     "execution_count": 8,
     "metadata": {},
     "output_type": "execute_result"
    }
   ],
   "source": [
    "df.loc['THE TRAVEL AGENCY IN THE PARK']"
   ]
  },
  {
   "cell_type": "code",
   "execution_count": 9,
   "metadata": {
    "collapsed": false
   },
   "outputs": [
    {
     "data": {
      "text/plain": [
       "bonus                         97343619\n",
       "deferral_payments             32083396\n",
       "deferred_income              -27992891\n",
       "director_fees                  1398517\n",
       "email_address                      NaN\n",
       "exercised_stock_options      311764000\n",
       "expenses                       5235198\n",
       "from_messages                      NaN\n",
       "from_poi_to_this_person            NaN\n",
       "from_this_person_to_poi            NaN\n",
       "loan_advances                 83925000\n",
       "long_term_incentive           48521928\n",
       "other                         42667589\n",
       "poi                              False\n",
       "restricted_stock             130322299\n",
       "restricted_stock_deferred     -7576788\n",
       "salary                        26704229\n",
       "shared_receipt_with_poi            NaN\n",
       "to_messages                        NaN\n",
       "total_payments               309886585\n",
       "total_stock_value            434509511\n",
       "Name: TOTAL, dtype: object"
      ]
     },
     "execution_count": 9,
     "metadata": {},
     "output_type": "execute_result"
    }
   ],
   "source": [
    "df.loc['TOTAL']"
   ]
  },
  {
   "cell_type": "markdown",
   "metadata": {},
   "source": [
    "It seems like 'THE TRAVEL AGENCY IN THE PARK' is inputted by mistake. And the total is basically summary of other entries, a spreadsheet quirk. Let's remove them."
   ]
  },
  {
   "cell_type": "code",
   "execution_count": 10,
   "metadata": {
    "collapsed": false
   },
   "outputs": [],
   "source": [
    "# Remove TOTAL\n",
    "df.drop(df.index[df.index == 'TOTAL'], inplace=True)\n",
    "# Remove THE TRAVEL AGENCY IN THE PARK\n",
    "df.drop(df.index[df.index == 'THE TRAVEL AGENCY IN THE PARK'], inplace=True)"
   ]
  },
  {
   "cell_type": "code",
   "execution_count": 11,
   "metadata": {
    "collapsed": false
   },
   "outputs": [
    {
     "data": {
      "text/plain": [
       "True"
      ]
     },
     "execution_count": 11,
     "metadata": {},
     "output_type": "execute_result"
    }
   ],
   "source": [
    "# Verify\n",
    "'TOTAL' not in list(df.index) and 'THE TRAVEL AGENCY IN THE PARK' not in list(df.index)"
   ]
  },
  {
   "cell_type": "markdown",
   "metadata": {},
   "source": [
    "So now we have **144 rows** and **21 features**"
   ]
  },
  {
   "cell_type": "code",
   "execution_count": 12,
   "metadata": {
    "collapsed": false
   },
   "outputs": [
    {
     "data": {
      "text/html": [
       "<div style=\"max-height:1000px;max-width:1500px;overflow:auto;\">\n",
       "<table border=\"1\" class=\"dataframe\">\n",
       "  <thead>\n",
       "    <tr style=\"text-align: right;\">\n",
       "      <th></th>\n",
       "      <th>bonus</th>\n",
       "      <th>deferral_payments</th>\n",
       "      <th>deferred_income</th>\n",
       "      <th>director_fees</th>\n",
       "      <th>email_address</th>\n",
       "      <th>exercised_stock_options</th>\n",
       "      <th>expenses</th>\n",
       "      <th>from_messages</th>\n",
       "      <th>from_poi_to_this_person</th>\n",
       "      <th>from_this_person_to_poi</th>\n",
       "      <th>...</th>\n",
       "      <th>long_term_incentive</th>\n",
       "      <th>other</th>\n",
       "      <th>poi</th>\n",
       "      <th>restricted_stock</th>\n",
       "      <th>restricted_stock_deferred</th>\n",
       "      <th>salary</th>\n",
       "      <th>shared_receipt_with_poi</th>\n",
       "      <th>to_messages</th>\n",
       "      <th>total_payments</th>\n",
       "      <th>total_stock_value</th>\n",
       "    </tr>\n",
       "  </thead>\n",
       "  <tbody>\n",
       "    <tr>\n",
       "      <th>ALLEN PHILLIP K</th>\n",
       "      <td>4175000</td>\n",
       "      <td>2869717</td>\n",
       "      <td>-3081055</td>\n",
       "      <td>NaN</td>\n",
       "      <td>phillip.allen@enron.com</td>\n",
       "      <td>1729541</td>\n",
       "      <td>13868</td>\n",
       "      <td>2195</td>\n",
       "      <td>47</td>\n",
       "      <td>65</td>\n",
       "      <td>...</td>\n",
       "      <td>304805</td>\n",
       "      <td>152</td>\n",
       "      <td>False</td>\n",
       "      <td>126027</td>\n",
       "      <td>-126027</td>\n",
       "      <td>201955</td>\n",
       "      <td>1407</td>\n",
       "      <td>2902</td>\n",
       "      <td>4484442</td>\n",
       "      <td>1729541</td>\n",
       "    </tr>\n",
       "    <tr>\n",
       "      <th>BADUM JAMES P</th>\n",
       "      <td>NaN</td>\n",
       "      <td>178980</td>\n",
       "      <td>NaN</td>\n",
       "      <td>NaN</td>\n",
       "      <td>NaN</td>\n",
       "      <td>257817</td>\n",
       "      <td>3486</td>\n",
       "      <td>NaN</td>\n",
       "      <td>NaN</td>\n",
       "      <td>NaN</td>\n",
       "      <td>...</td>\n",
       "      <td>NaN</td>\n",
       "      <td>NaN</td>\n",
       "      <td>False</td>\n",
       "      <td>NaN</td>\n",
       "      <td>NaN</td>\n",
       "      <td>NaN</td>\n",
       "      <td>NaN</td>\n",
       "      <td>NaN</td>\n",
       "      <td>182466</td>\n",
       "      <td>257817</td>\n",
       "    </tr>\n",
       "    <tr>\n",
       "      <th>BANNANTINE JAMES M</th>\n",
       "      <td>NaN</td>\n",
       "      <td>NaN</td>\n",
       "      <td>-5104</td>\n",
       "      <td>NaN</td>\n",
       "      <td>james.bannantine@enron.com</td>\n",
       "      <td>4046157</td>\n",
       "      <td>56301</td>\n",
       "      <td>29</td>\n",
       "      <td>39</td>\n",
       "      <td>0</td>\n",
       "      <td>...</td>\n",
       "      <td>NaN</td>\n",
       "      <td>864523</td>\n",
       "      <td>False</td>\n",
       "      <td>1757552</td>\n",
       "      <td>-560222</td>\n",
       "      <td>477</td>\n",
       "      <td>465</td>\n",
       "      <td>566</td>\n",
       "      <td>916197</td>\n",
       "      <td>5243487</td>\n",
       "    </tr>\n",
       "    <tr>\n",
       "      <th>BAXTER JOHN C</th>\n",
       "      <td>1200000</td>\n",
       "      <td>1295738</td>\n",
       "      <td>-1386055</td>\n",
       "      <td>NaN</td>\n",
       "      <td>NaN</td>\n",
       "      <td>6680544</td>\n",
       "      <td>11200</td>\n",
       "      <td>NaN</td>\n",
       "      <td>NaN</td>\n",
       "      <td>NaN</td>\n",
       "      <td>...</td>\n",
       "      <td>1586055</td>\n",
       "      <td>2660303</td>\n",
       "      <td>False</td>\n",
       "      <td>3942714</td>\n",
       "      <td>NaN</td>\n",
       "      <td>267102</td>\n",
       "      <td>NaN</td>\n",
       "      <td>NaN</td>\n",
       "      <td>5634343</td>\n",
       "      <td>10623258</td>\n",
       "    </tr>\n",
       "    <tr>\n",
       "      <th>BAY FRANKLIN R</th>\n",
       "      <td>400000</td>\n",
       "      <td>260455</td>\n",
       "      <td>-201641</td>\n",
       "      <td>NaN</td>\n",
       "      <td>frank.bay@enron.com</td>\n",
       "      <td>NaN</td>\n",
       "      <td>129142</td>\n",
       "      <td>NaN</td>\n",
       "      <td>NaN</td>\n",
       "      <td>NaN</td>\n",
       "      <td>...</td>\n",
       "      <td>NaN</td>\n",
       "      <td>69</td>\n",
       "      <td>False</td>\n",
       "      <td>145796</td>\n",
       "      <td>-82782</td>\n",
       "      <td>239671</td>\n",
       "      <td>NaN</td>\n",
       "      <td>NaN</td>\n",
       "      <td>827696</td>\n",
       "      <td>63014</td>\n",
       "    </tr>\n",
       "  </tbody>\n",
       "</table>\n",
       "<p>5 rows × 21 columns</p>\n",
       "</div>"
      ],
      "text/plain": [
       "                      bonus deferral_payments deferred_income director_fees  \\\n",
       "ALLEN PHILLIP K     4175000           2869717        -3081055           NaN   \n",
       "BADUM JAMES P           NaN            178980             NaN           NaN   \n",
       "BANNANTINE JAMES M      NaN               NaN           -5104           NaN   \n",
       "BAXTER JOHN C       1200000           1295738        -1386055           NaN   \n",
       "BAY FRANKLIN R       400000            260455         -201641           NaN   \n",
       "\n",
       "                                 email_address exercised_stock_options  \\\n",
       "ALLEN PHILLIP K        phillip.allen@enron.com                 1729541   \n",
       "BADUM JAMES P                              NaN                  257817   \n",
       "BANNANTINE JAMES M  james.bannantine@enron.com                 4046157   \n",
       "BAXTER JOHN C                              NaN                 6680544   \n",
       "BAY FRANKLIN R             frank.bay@enron.com                     NaN   \n",
       "\n",
       "                   expenses from_messages from_poi_to_this_person  \\\n",
       "ALLEN PHILLIP K       13868          2195                      47   \n",
       "BADUM JAMES P          3486           NaN                     NaN   \n",
       "BANNANTINE JAMES M    56301            29                      39   \n",
       "BAXTER JOHN C         11200           NaN                     NaN   \n",
       "BAY FRANKLIN R       129142           NaN                     NaN   \n",
       "\n",
       "                   from_this_person_to_poi        ...         \\\n",
       "ALLEN PHILLIP K                         65        ...          \n",
       "BADUM JAMES P                          NaN        ...          \n",
       "BANNANTINE JAMES M                       0        ...          \n",
       "BAXTER JOHN C                          NaN        ...          \n",
       "BAY FRANKLIN R                         NaN        ...          \n",
       "\n",
       "                   long_term_incentive    other    poi restricted_stock  \\\n",
       "ALLEN PHILLIP K                 304805      152  False           126027   \n",
       "BADUM JAMES P                      NaN      NaN  False              NaN   \n",
       "BANNANTINE JAMES M                 NaN   864523  False          1757552   \n",
       "BAXTER JOHN C                  1586055  2660303  False          3942714   \n",
       "BAY FRANKLIN R                     NaN       69  False           145796   \n",
       "\n",
       "                   restricted_stock_deferred  salary shared_receipt_with_poi  \\\n",
       "ALLEN PHILLIP K                      -126027  201955                    1407   \n",
       "BADUM JAMES P                            NaN     NaN                     NaN   \n",
       "BANNANTINE JAMES M                   -560222     477                     465   \n",
       "BAXTER JOHN C                            NaN  267102                     NaN   \n",
       "BAY FRANKLIN R                        -82782  239671                     NaN   \n",
       "\n",
       "                   to_messages total_payments total_stock_value  \n",
       "ALLEN PHILLIP K           2902        4484442           1729541  \n",
       "BADUM JAMES P              NaN         182466            257817  \n",
       "BANNANTINE JAMES M         566         916197           5243487  \n",
       "BAXTER JOHN C              NaN        5634343          10623258  \n",
       "BAY FRANKLIN R             NaN         827696             63014  \n",
       "\n",
       "[5 rows x 21 columns]"
      ]
     },
     "execution_count": 12,
     "metadata": {},
     "output_type": "execute_result"
    }
   ],
   "source": [
    "# Check several entry of the data\n",
    "df.head()"
   ]
  },
  {
   "cell_type": "code",
   "execution_count": 13,
   "metadata": {
    "collapsed": false
   },
   "outputs": [
    {
     "data": {
      "text/html": [
       "<div style=\"max-height:1000px;max-width:1500px;overflow:auto;\">\n",
       "<table border=\"1\" class=\"dataframe\">\n",
       "  <thead>\n",
       "    <tr style=\"text-align: right;\">\n",
       "      <th></th>\n",
       "      <th>bonus</th>\n",
       "      <th>deferral_payments</th>\n",
       "      <th>deferred_income</th>\n",
       "      <th>director_fees</th>\n",
       "      <th>email_address</th>\n",
       "      <th>exercised_stock_options</th>\n",
       "      <th>expenses</th>\n",
       "      <th>from_messages</th>\n",
       "      <th>from_poi_to_this_person</th>\n",
       "      <th>from_this_person_to_poi</th>\n",
       "      <th>...</th>\n",
       "      <th>long_term_incentive</th>\n",
       "      <th>other</th>\n",
       "      <th>poi</th>\n",
       "      <th>restricted_stock</th>\n",
       "      <th>restricted_stock_deferred</th>\n",
       "      <th>salary</th>\n",
       "      <th>shared_receipt_with_poi</th>\n",
       "      <th>to_messages</th>\n",
       "      <th>total_payments</th>\n",
       "      <th>total_stock_value</th>\n",
       "    </tr>\n",
       "  </thead>\n",
       "  <tbody>\n",
       "    <tr>\n",
       "      <th>count</th>\n",
       "      <td>144</td>\n",
       "      <td>144</td>\n",
       "      <td>144</td>\n",
       "      <td>144</td>\n",
       "      <td>144</td>\n",
       "      <td>144</td>\n",
       "      <td>144</td>\n",
       "      <td>144</td>\n",
       "      <td>144</td>\n",
       "      <td>144</td>\n",
       "      <td>...</td>\n",
       "      <td>144</td>\n",
       "      <td>144</td>\n",
       "      <td>144</td>\n",
       "      <td>144</td>\n",
       "      <td>144</td>\n",
       "      <td>144</td>\n",
       "      <td>144</td>\n",
       "      <td>144</td>\n",
       "      <td>144</td>\n",
       "      <td>144</td>\n",
       "    </tr>\n",
       "    <tr>\n",
       "      <th>unique</th>\n",
       "      <td>41</td>\n",
       "      <td>39</td>\n",
       "      <td>44</td>\n",
       "      <td>17</td>\n",
       "      <td>112</td>\n",
       "      <td>101</td>\n",
       "      <td>94</td>\n",
       "      <td>65</td>\n",
       "      <td>58</td>\n",
       "      <td>42</td>\n",
       "      <td>...</td>\n",
       "      <td>52</td>\n",
       "      <td>91</td>\n",
       "      <td>2</td>\n",
       "      <td>97</td>\n",
       "      <td>18</td>\n",
       "      <td>94</td>\n",
       "      <td>84</td>\n",
       "      <td>87</td>\n",
       "      <td>124</td>\n",
       "      <td>124</td>\n",
       "    </tr>\n",
       "    <tr>\n",
       "      <th>top</th>\n",
       "      <td>NaN</td>\n",
       "      <td>NaN</td>\n",
       "      <td>NaN</td>\n",
       "      <td>NaN</td>\n",
       "      <td>NaN</td>\n",
       "      <td>NaN</td>\n",
       "      <td>NaN</td>\n",
       "      <td>NaN</td>\n",
       "      <td>NaN</td>\n",
       "      <td>NaN</td>\n",
       "      <td>...</td>\n",
       "      <td>NaN</td>\n",
       "      <td>NaN</td>\n",
       "      <td>False</td>\n",
       "      <td>NaN</td>\n",
       "      <td>NaN</td>\n",
       "      <td>NaN</td>\n",
       "      <td>NaN</td>\n",
       "      <td>NaN</td>\n",
       "      <td>NaN</td>\n",
       "      <td>NaN</td>\n",
       "    </tr>\n",
       "    <tr>\n",
       "      <th>freq</th>\n",
       "      <td>63</td>\n",
       "      <td>106</td>\n",
       "      <td>96</td>\n",
       "      <td>128</td>\n",
       "      <td>33</td>\n",
       "      <td>43</td>\n",
       "      <td>50</td>\n",
       "      <td>58</td>\n",
       "      <td>58</td>\n",
       "      <td>58</td>\n",
       "      <td>...</td>\n",
       "      <td>79</td>\n",
       "      <td>53</td>\n",
       "      <td>126</td>\n",
       "      <td>35</td>\n",
       "      <td>127</td>\n",
       "      <td>50</td>\n",
       "      <td>58</td>\n",
       "      <td>58</td>\n",
       "      <td>21</td>\n",
       "      <td>19</td>\n",
       "    </tr>\n",
       "  </tbody>\n",
       "</table>\n",
       "<p>4 rows × 21 columns</p>\n",
       "</div>"
      ],
      "text/plain": [
       "       bonus deferral_payments deferred_income director_fees email_address  \\\n",
       "count    144               144             144           144           144   \n",
       "unique    41                39              44            17           112   \n",
       "top      NaN               NaN             NaN           NaN           NaN   \n",
       "freq      63               106              96           128            33   \n",
       "\n",
       "       exercised_stock_options expenses from_messages from_poi_to_this_person  \\\n",
       "count                      144      144           144                     144   \n",
       "unique                     101       94            65                      58   \n",
       "top                        NaN      NaN           NaN                     NaN   \n",
       "freq                        43       50            58                      58   \n",
       "\n",
       "       from_this_person_to_poi        ...        long_term_incentive other  \\\n",
       "count                      144        ...                        144   144   \n",
       "unique                      42        ...                         52    91   \n",
       "top                        NaN        ...                        NaN   NaN   \n",
       "freq                        58        ...                         79    53   \n",
       "\n",
       "          poi restricted_stock restricted_stock_deferred salary  \\\n",
       "count     144              144                       144    144   \n",
       "unique      2               97                        18     94   \n",
       "top     False              NaN                       NaN    NaN   \n",
       "freq      126               35                       127     50   \n",
       "\n",
       "       shared_receipt_with_poi to_messages total_payments total_stock_value  \n",
       "count                      144         144            144               144  \n",
       "unique                      84          87            124               124  \n",
       "top                        NaN         NaN            NaN               NaN  \n",
       "freq                        58          58             21                19  \n",
       "\n",
       "[4 rows x 21 columns]"
      ]
     },
     "execution_count": 13,
     "metadata": {},
     "output_type": "execute_result"
    }
   ],
   "source": [
    "# Check the summary\n",
    "df.describe()"
   ]
  },
  {
   "cell_type": "markdown",
   "metadata": {},
   "source": [
    "The data description is not quite what I wanted. I expect to see the descriptive statistics information of the data. But this is not what I get in return. This is because Pandas treat each columns as string now. Let's fix that."
   ]
  },
  {
   "cell_type": "code",
   "execution_count": 14,
   "metadata": {
    "collapsed": true
   },
   "outputs": [],
   "source": [
    "# This are columns that should be represented as number\n",
    "float_columns = ['bonus', 'deferral_payments', 'deferred_income', 'director_fees', \n",
    " 'exercised_stock_options', 'expenses', 'from_messages', 'from_poi_to_this_person',\n",
    " 'from_this_person_to_poi', 'loan_advances', 'long_term_incentive', 'other',\n",
    " 'restricted_stock', 'restricted_stock_deferred', 'salary', 'shared_receipt_with_poi',\n",
    " 'to_messages', 'total_payments', 'total_stock_value']"
   ]
  },
  {
   "cell_type": "code",
   "execution_count": 15,
   "metadata": {
    "collapsed": true
   },
   "outputs": [],
   "source": [
    "# do the conversion\n",
    "df[float_columns] = df[float_columns].astype('float')"
   ]
  },
  {
   "cell_type": "code",
   "execution_count": 16,
   "metadata": {
    "collapsed": false
   },
   "outputs": [
    {
     "data": {
      "text/html": [
       "<div style=\"max-height:1000px;max-width:1500px;overflow:auto;\">\n",
       "<table border=\"1\" class=\"dataframe\">\n",
       "  <thead>\n",
       "    <tr style=\"text-align: right;\">\n",
       "      <th></th>\n",
       "      <th>bonus</th>\n",
       "      <th>deferral_payments</th>\n",
       "      <th>deferred_income</th>\n",
       "      <th>director_fees</th>\n",
       "      <th>exercised_stock_options</th>\n",
       "      <th>expenses</th>\n",
       "      <th>from_messages</th>\n",
       "      <th>from_poi_to_this_person</th>\n",
       "      <th>from_this_person_to_poi</th>\n",
       "      <th>loan_advances</th>\n",
       "      <th>long_term_incentive</th>\n",
       "      <th>other</th>\n",
       "      <th>restricted_stock</th>\n",
       "      <th>restricted_stock_deferred</th>\n",
       "      <th>salary</th>\n",
       "      <th>shared_receipt_with_poi</th>\n",
       "      <th>to_messages</th>\n",
       "      <th>total_payments</th>\n",
       "      <th>total_stock_value</th>\n",
       "    </tr>\n",
       "  </thead>\n",
       "  <tbody>\n",
       "    <tr>\n",
       "      <th>count</th>\n",
       "      <td>81.000000</td>\n",
       "      <td>38.000000</td>\n",
       "      <td>48.000000</td>\n",
       "      <td>16.000000</td>\n",
       "      <td>101.000000</td>\n",
       "      <td>94.000000</td>\n",
       "      <td>86.000000</td>\n",
       "      <td>86.000000</td>\n",
       "      <td>86.000000</td>\n",
       "      <td>3.000000</td>\n",
       "      <td>65.000000</td>\n",
       "      <td>91.000000</td>\n",
       "      <td>109.000000</td>\n",
       "      <td>17.000000</td>\n",
       "      <td>94.000000</td>\n",
       "      <td>86.000000</td>\n",
       "      <td>86.000000</td>\n",
       "      <td>1.230000e+02</td>\n",
       "      <td>125.000000</td>\n",
       "    </tr>\n",
       "    <tr>\n",
       "      <th>mean</th>\n",
       "      <td>1201773.074074</td>\n",
       "      <td>841602.526316</td>\n",
       "      <td>-581049.812500</td>\n",
       "      <td>89822.875000</td>\n",
       "      <td>2959559.257426</td>\n",
       "      <td>54192.010638</td>\n",
       "      <td>608.790698</td>\n",
       "      <td>64.895349</td>\n",
       "      <td>41.232558</td>\n",
       "      <td>27975000.000000</td>\n",
       "      <td>746491.200000</td>\n",
       "      <td>466410.516484</td>\n",
       "      <td>1147424.091743</td>\n",
       "      <td>621892.823529</td>\n",
       "      <td>284087.542553</td>\n",
       "      <td>1176.465116</td>\n",
       "      <td>2073.860465</td>\n",
       "      <td>2.641806e+06</td>\n",
       "      <td>3352073.024000</td>\n",
       "    </tr>\n",
       "    <tr>\n",
       "      <th>std</th>\n",
       "      <td>1441679.438330</td>\n",
       "      <td>1289322.626180</td>\n",
       "      <td>942076.402972</td>\n",
       "      <td>41112.700735</td>\n",
       "      <td>5499449.598994</td>\n",
       "      <td>46108.377454</td>\n",
       "      <td>1841.033949</td>\n",
       "      <td>86.979244</td>\n",
       "      <td>100.073111</td>\n",
       "      <td>46382560.030684</td>\n",
       "      <td>862917.421568</td>\n",
       "      <td>1397375.607531</td>\n",
       "      <td>2249770.356903</td>\n",
       "      <td>3845528.349509</td>\n",
       "      <td>177131.115377</td>\n",
       "      <td>1178.317641</td>\n",
       "      <td>2582.700981</td>\n",
       "      <td>9.524694e+06</td>\n",
       "      <td>6532883.097201</td>\n",
       "    </tr>\n",
       "    <tr>\n",
       "      <th>min</th>\n",
       "      <td>70000.000000</td>\n",
       "      <td>-102500.000000</td>\n",
       "      <td>-3504386.000000</td>\n",
       "      <td>3285.000000</td>\n",
       "      <td>3285.000000</td>\n",
       "      <td>148.000000</td>\n",
       "      <td>12.000000</td>\n",
       "      <td>0.000000</td>\n",
       "      <td>0.000000</td>\n",
       "      <td>400000.000000</td>\n",
       "      <td>69223.000000</td>\n",
       "      <td>2.000000</td>\n",
       "      <td>-2604490.000000</td>\n",
       "      <td>-1787380.000000</td>\n",
       "      <td>477.000000</td>\n",
       "      <td>2.000000</td>\n",
       "      <td>57.000000</td>\n",
       "      <td>1.480000e+02</td>\n",
       "      <td>-44093.000000</td>\n",
       "    </tr>\n",
       "    <tr>\n",
       "      <th>25%</th>\n",
       "      <td>425000.000000</td>\n",
       "      <td>79644.500000</td>\n",
       "      <td>-611209.250000</td>\n",
       "      <td>83674.500000</td>\n",
       "      <td>506765.000000</td>\n",
       "      <td>22479.000000</td>\n",
       "      <td>22.750000</td>\n",
       "      <td>10.000000</td>\n",
       "      <td>1.000000</td>\n",
       "      <td>1200000.000000</td>\n",
       "      <td>275000.000000</td>\n",
       "      <td>1203.000000</td>\n",
       "      <td>252055.000000</td>\n",
       "      <td>-329825.000000</td>\n",
       "      <td>211802.000000</td>\n",
       "      <td>249.750000</td>\n",
       "      <td>541.250000</td>\n",
       "      <td>3.969340e+05</td>\n",
       "      <td>494136.000000</td>\n",
       "    </tr>\n",
       "    <tr>\n",
       "      <th>50%</th>\n",
       "      <td>750000.000000</td>\n",
       "      <td>221063.500000</td>\n",
       "      <td>-151927.000000</td>\n",
       "      <td>106164.500000</td>\n",
       "      <td>1297049.000000</td>\n",
       "      <td>46547.500000</td>\n",
       "      <td>41.000000</td>\n",
       "      <td>35.000000</td>\n",
       "      <td>8.000000</td>\n",
       "      <td>2000000.000000</td>\n",
       "      <td>422158.000000</td>\n",
       "      <td>51587.000000</td>\n",
       "      <td>441096.000000</td>\n",
       "      <td>-140264.000000</td>\n",
       "      <td>258741.000000</td>\n",
       "      <td>740.500000</td>\n",
       "      <td>1211.000000</td>\n",
       "      <td>1.101393e+06</td>\n",
       "      <td>1095040.000000</td>\n",
       "    </tr>\n",
       "    <tr>\n",
       "      <th>75%</th>\n",
       "      <td>1200000.000000</td>\n",
       "      <td>867211.250000</td>\n",
       "      <td>-37926.000000</td>\n",
       "      <td>112815.000000</td>\n",
       "      <td>2542813.000000</td>\n",
       "      <td>78408.500000</td>\n",
       "      <td>145.500000</td>\n",
       "      <td>72.250000</td>\n",
       "      <td>24.750000</td>\n",
       "      <td>41762500.000000</td>\n",
       "      <td>831809.000000</td>\n",
       "      <td>331983.000000</td>\n",
       "      <td>985032.000000</td>\n",
       "      <td>-72419.000000</td>\n",
       "      <td>308606.500000</td>\n",
       "      <td>1888.250000</td>\n",
       "      <td>2634.750000</td>\n",
       "      <td>2.087530e+06</td>\n",
       "      <td>2606763.000000</td>\n",
       "    </tr>\n",
       "    <tr>\n",
       "      <th>max</th>\n",
       "      <td>8000000.000000</td>\n",
       "      <td>6426990.000000</td>\n",
       "      <td>-833.000000</td>\n",
       "      <td>137864.000000</td>\n",
       "      <td>34348384.000000</td>\n",
       "      <td>228763.000000</td>\n",
       "      <td>14368.000000</td>\n",
       "      <td>528.000000</td>\n",
       "      <td>609.000000</td>\n",
       "      <td>81525000.000000</td>\n",
       "      <td>5145434.000000</td>\n",
       "      <td>10359729.000000</td>\n",
       "      <td>14761694.000000</td>\n",
       "      <td>15456290.000000</td>\n",
       "      <td>1111258.000000</td>\n",
       "      <td>5521.000000</td>\n",
       "      <td>15149.000000</td>\n",
       "      <td>1.035598e+08</td>\n",
       "      <td>49110078.000000</td>\n",
       "    </tr>\n",
       "  </tbody>\n",
       "</table>\n",
       "</div>"
      ],
      "text/plain": [
       "                bonus  deferral_payments  deferred_income  director_fees  \\\n",
       "count       81.000000          38.000000        48.000000      16.000000   \n",
       "mean   1201773.074074      841602.526316   -581049.812500   89822.875000   \n",
       "std    1441679.438330     1289322.626180    942076.402972   41112.700735   \n",
       "min      70000.000000     -102500.000000  -3504386.000000    3285.000000   \n",
       "25%     425000.000000       79644.500000   -611209.250000   83674.500000   \n",
       "50%     750000.000000      221063.500000   -151927.000000  106164.500000   \n",
       "75%    1200000.000000      867211.250000    -37926.000000  112815.000000   \n",
       "max    8000000.000000     6426990.000000      -833.000000  137864.000000   \n",
       "\n",
       "       exercised_stock_options       expenses  from_messages  \\\n",
       "count               101.000000      94.000000      86.000000   \n",
       "mean            2959559.257426   54192.010638     608.790698   \n",
       "std             5499449.598994   46108.377454    1841.033949   \n",
       "min                3285.000000     148.000000      12.000000   \n",
       "25%              506765.000000   22479.000000      22.750000   \n",
       "50%             1297049.000000   46547.500000      41.000000   \n",
       "75%             2542813.000000   78408.500000     145.500000   \n",
       "max            34348384.000000  228763.000000   14368.000000   \n",
       "\n",
       "       from_poi_to_this_person  from_this_person_to_poi    loan_advances  \\\n",
       "count                86.000000                86.000000         3.000000   \n",
       "mean                 64.895349                41.232558  27975000.000000   \n",
       "std                  86.979244               100.073111  46382560.030684   \n",
       "min                   0.000000                 0.000000    400000.000000   \n",
       "25%                  10.000000                 1.000000   1200000.000000   \n",
       "50%                  35.000000                 8.000000   2000000.000000   \n",
       "75%                  72.250000                24.750000  41762500.000000   \n",
       "max                 528.000000               609.000000  81525000.000000   \n",
       "\n",
       "       long_term_incentive            other  restricted_stock  \\\n",
       "count            65.000000        91.000000        109.000000   \n",
       "mean         746491.200000    466410.516484    1147424.091743   \n",
       "std          862917.421568   1397375.607531    2249770.356903   \n",
       "min           69223.000000         2.000000   -2604490.000000   \n",
       "25%          275000.000000      1203.000000     252055.000000   \n",
       "50%          422158.000000     51587.000000     441096.000000   \n",
       "75%          831809.000000    331983.000000     985032.000000   \n",
       "max         5145434.000000  10359729.000000   14761694.000000   \n",
       "\n",
       "       restricted_stock_deferred          salary  shared_receipt_with_poi  \\\n",
       "count                  17.000000       94.000000                86.000000   \n",
       "mean               621892.823529   284087.542553              1176.465116   \n",
       "std               3845528.349509   177131.115377              1178.317641   \n",
       "min              -1787380.000000      477.000000                 2.000000   \n",
       "25%               -329825.000000   211802.000000               249.750000   \n",
       "50%               -140264.000000   258741.000000               740.500000   \n",
       "75%                -72419.000000   308606.500000              1888.250000   \n",
       "max              15456290.000000  1111258.000000              5521.000000   \n",
       "\n",
       "        to_messages  total_payments  total_stock_value  \n",
       "count     86.000000    1.230000e+02         125.000000  \n",
       "mean    2073.860465    2.641806e+06     3352073.024000  \n",
       "std     2582.700981    9.524694e+06     6532883.097201  \n",
       "min       57.000000    1.480000e+02      -44093.000000  \n",
       "25%      541.250000    3.969340e+05      494136.000000  \n",
       "50%     1211.000000    1.101393e+06     1095040.000000  \n",
       "75%     2634.750000    2.087530e+06     2606763.000000  \n",
       "max    15149.000000    1.035598e+08    49110078.000000  "
      ]
     },
     "execution_count": 16,
     "metadata": {},
     "output_type": "execute_result"
    }
   ],
   "source": [
    "# Let's recheck that\n",
    "df.describe()"
   ]
  },
  {
   "cell_type": "markdown",
   "metadata": {},
   "source": [
    "That is better!"
   ]
  },
  {
   "cell_type": "markdown",
   "metadata": {},
   "source": [
    "### 1.2 Missing data\n",
    "\n",
    "There are a lot of 'NaN' in the data entries, let's take a look at how many in the data. And the percentage of the NaN data."
   ]
  },
  {
   "cell_type": "code",
   "execution_count": 17,
   "metadata": {
    "collapsed": false
   },
   "outputs": [
    {
     "name": "stdout",
     "output_type": "stream",
     "text": [
      "                         bonus   63   43.75%\n",
      "             deferral_payments  106   73.61%\n",
      "               deferred_income   96   66.66%\n",
      "                 director_fees  128   88.88%\n",
      "       exercised_stock_options   43   29.86%\n",
      "                      expenses   50   34.72%\n",
      "                 from_messages   58   40.27%\n",
      "       from_poi_to_this_person   58   40.27%\n",
      "       from_this_person_to_poi   58   40.27%\n",
      "                 loan_advances  141   97.91%\n",
      "           long_term_incentive   79   54.86%\n",
      "                         other   53   36.80%\n",
      "              restricted_stock   35   24.30%\n",
      "     restricted_stock_deferred  127   88.19%\n",
      "                        salary   50   34.72%\n",
      "       shared_receipt_with_poi   58   40.27%\n",
      "                   to_messages   58   40.27%\n",
      "                total_payments   21   14.58%\n",
      "             total_stock_value   19   13.19%\n"
     ]
    }
   ],
   "source": [
    "for idx, item in enumerate(df[float_columns].isnull().sum()):\n",
    "    print \"%30s %4s %7.5s%%\" % (float_columns[idx], item, (item * 100.0) / len(df))"
   ]
  },
  {
   "cell_type": "markdown",
   "metadata": {},
   "source": [
    "Several of the features has a lot of NaN. Let's take a look at one of them."
   ]
  },
  {
   "cell_type": "code",
   "execution_count": 18,
   "metadata": {
    "collapsed": false
   },
   "outputs": [
    {
     "data": {
      "text/html": [
       "<div style=\"max-height:1000px;max-width:1500px;overflow:auto;\">\n",
       "<table border=\"1\" class=\"dataframe\">\n",
       "  <thead>\n",
       "    <tr style=\"text-align: right;\">\n",
       "      <th></th>\n",
       "      <th>director_fees</th>\n",
       "      <th>poi</th>\n",
       "    </tr>\n",
       "  </thead>\n",
       "  <tbody>\n",
       "    <tr>\n",
       "      <th>BELFER ROBERT</th>\n",
       "      <td>3285</td>\n",
       "      <td>False</td>\n",
       "    </tr>\n",
       "    <tr>\n",
       "      <th>BHATNAGAR SANJAY</th>\n",
       "      <td>137864</td>\n",
       "      <td>False</td>\n",
       "    </tr>\n",
       "    <tr>\n",
       "      <th>BLAKE JR. NORMAN P</th>\n",
       "      <td>113784</td>\n",
       "      <td>False</td>\n",
       "    </tr>\n",
       "    <tr>\n",
       "      <th>CHAN RONNIE</th>\n",
       "      <td>98784</td>\n",
       "      <td>False</td>\n",
       "    </tr>\n",
       "    <tr>\n",
       "      <th>DUNCAN JOHN H</th>\n",
       "      <td>102492</td>\n",
       "      <td>False</td>\n",
       "    </tr>\n",
       "    <tr>\n",
       "      <th>GRAMM WENDY L</th>\n",
       "      <td>119292</td>\n",
       "      <td>False</td>\n",
       "    </tr>\n",
       "    <tr>\n",
       "      <th>JAEDICKE ROBERT</th>\n",
       "      <td>108750</td>\n",
       "      <td>False</td>\n",
       "    </tr>\n",
       "    <tr>\n",
       "      <th>LEMAISTRE CHARLES</th>\n",
       "      <td>112492</td>\n",
       "      <td>False</td>\n",
       "    </tr>\n",
       "    <tr>\n",
       "      <th>MENDELSOHN JOHN</th>\n",
       "      <td>103750</td>\n",
       "      <td>False</td>\n",
       "    </tr>\n",
       "    <tr>\n",
       "      <th>MEYER JEROME J</th>\n",
       "      <td>38346</td>\n",
       "      <td>False</td>\n",
       "    </tr>\n",
       "    <tr>\n",
       "      <th>PEREIRA PAULO V. FERRAZ</th>\n",
       "      <td>101250</td>\n",
       "      <td>False</td>\n",
       "    </tr>\n",
       "    <tr>\n",
       "      <th>POWERS WILLIAM</th>\n",
       "      <td>17500</td>\n",
       "      <td>False</td>\n",
       "    </tr>\n",
       "    <tr>\n",
       "      <th>SAVAGE FRANK</th>\n",
       "      <td>125034</td>\n",
       "      <td>False</td>\n",
       "    </tr>\n",
       "    <tr>\n",
       "      <th>URQUHART JOHN A</th>\n",
       "      <td>36666</td>\n",
       "      <td>False</td>\n",
       "    </tr>\n",
       "    <tr>\n",
       "      <th>WAKEHAM JOHN</th>\n",
       "      <td>109298</td>\n",
       "      <td>False</td>\n",
       "    </tr>\n",
       "    <tr>\n",
       "      <th>WINOKUR JR. HERBERT S</th>\n",
       "      <td>108579</td>\n",
       "      <td>False</td>\n",
       "    </tr>\n",
       "  </tbody>\n",
       "</table>\n",
       "</div>"
      ],
      "text/plain": [
       "                         director_fees    poi\n",
       "BELFER ROBERT                     3285  False\n",
       "BHATNAGAR SANJAY                137864  False\n",
       "BLAKE JR. NORMAN P              113784  False\n",
       "CHAN RONNIE                      98784  False\n",
       "DUNCAN JOHN H                   102492  False\n",
       "GRAMM WENDY L                   119292  False\n",
       "JAEDICKE ROBERT                 108750  False\n",
       "LEMAISTRE CHARLES               112492  False\n",
       "MENDELSOHN JOHN                 103750  False\n",
       "MEYER JEROME J                   38346  False\n",
       "PEREIRA PAULO V. FERRAZ         101250  False\n",
       "POWERS WILLIAM                   17500  False\n",
       "SAVAGE FRANK                    125034  False\n",
       "URQUHART JOHN A                  36666  False\n",
       "WAKEHAM JOHN                    109298  False\n",
       "WINOKUR JR. HERBERT S           108579  False"
      ]
     },
     "execution_count": 18,
     "metadata": {},
     "output_type": "execute_result"
    }
   ],
   "source": [
    "# Show the director_fees and poi with no NaN\n",
    "df[['director_fees', 'poi']].dropna()"
   ]
  },
  {
   "cell_type": "code",
   "execution_count": 19,
   "metadata": {
    "collapsed": false
   },
   "outputs": [
    {
     "data": {
      "text/html": [
       "<div style=\"max-height:1000px;max-width:1500px;overflow:auto;\">\n",
       "<table border=\"1\" class=\"dataframe\">\n",
       "  <thead>\n",
       "    <tr style=\"text-align: right;\">\n",
       "      <th></th>\n",
       "      <th>director_fees</th>\n",
       "      <th>poi</th>\n",
       "    </tr>\n",
       "  </thead>\n",
       "  <tbody>\n",
       "    <tr>\n",
       "      <th>BELDEN TIMOTHY N</th>\n",
       "      <td>NaN</td>\n",
       "      <td>True</td>\n",
       "    </tr>\n",
       "    <tr>\n",
       "      <th>BOWEN JR RAYMOND M</th>\n",
       "      <td>NaN</td>\n",
       "      <td>True</td>\n",
       "    </tr>\n",
       "    <tr>\n",
       "      <th>CALGER CHRISTOPHER F</th>\n",
       "      <td>NaN</td>\n",
       "      <td>True</td>\n",
       "    </tr>\n",
       "    <tr>\n",
       "      <th>CAUSEY RICHARD A</th>\n",
       "      <td>NaN</td>\n",
       "      <td>True</td>\n",
       "    </tr>\n",
       "    <tr>\n",
       "      <th>COLWELL WESLEY</th>\n",
       "      <td>NaN</td>\n",
       "      <td>True</td>\n",
       "    </tr>\n",
       "    <tr>\n",
       "      <th>DELAINEY DAVID W</th>\n",
       "      <td>NaN</td>\n",
       "      <td>True</td>\n",
       "    </tr>\n",
       "    <tr>\n",
       "      <th>FASTOW ANDREW S</th>\n",
       "      <td>NaN</td>\n",
       "      <td>True</td>\n",
       "    </tr>\n",
       "    <tr>\n",
       "      <th>GLISAN JR BEN F</th>\n",
       "      <td>NaN</td>\n",
       "      <td>True</td>\n",
       "    </tr>\n",
       "    <tr>\n",
       "      <th>HANNON KEVIN P</th>\n",
       "      <td>NaN</td>\n",
       "      <td>True</td>\n",
       "    </tr>\n",
       "    <tr>\n",
       "      <th>HIRKO JOSEPH</th>\n",
       "      <td>NaN</td>\n",
       "      <td>True</td>\n",
       "    </tr>\n",
       "    <tr>\n",
       "      <th>KOENIG MARK E</th>\n",
       "      <td>NaN</td>\n",
       "      <td>True</td>\n",
       "    </tr>\n",
       "    <tr>\n",
       "      <th>KOPPER MICHAEL J</th>\n",
       "      <td>NaN</td>\n",
       "      <td>True</td>\n",
       "    </tr>\n",
       "    <tr>\n",
       "      <th>LAY KENNETH L</th>\n",
       "      <td>NaN</td>\n",
       "      <td>True</td>\n",
       "    </tr>\n",
       "    <tr>\n",
       "      <th>RICE KENNETH D</th>\n",
       "      <td>NaN</td>\n",
       "      <td>True</td>\n",
       "    </tr>\n",
       "    <tr>\n",
       "      <th>RIEKER PAULA H</th>\n",
       "      <td>NaN</td>\n",
       "      <td>True</td>\n",
       "    </tr>\n",
       "    <tr>\n",
       "      <th>SHELBY REX</th>\n",
       "      <td>NaN</td>\n",
       "      <td>True</td>\n",
       "    </tr>\n",
       "    <tr>\n",
       "      <th>SKILLING JEFFREY K</th>\n",
       "      <td>NaN</td>\n",
       "      <td>True</td>\n",
       "    </tr>\n",
       "    <tr>\n",
       "      <th>YEAGER F SCOTT</th>\n",
       "      <td>NaN</td>\n",
       "      <td>True</td>\n",
       "    </tr>\n",
       "  </tbody>\n",
       "</table>\n",
       "</div>"
      ],
      "text/plain": [
       "                      director_fees   poi\n",
       "BELDEN TIMOTHY N                NaN  True\n",
       "BOWEN JR RAYMOND M              NaN  True\n",
       "CALGER CHRISTOPHER F            NaN  True\n",
       "CAUSEY RICHARD A                NaN  True\n",
       "COLWELL WESLEY                  NaN  True\n",
       "DELAINEY DAVID W                NaN  True\n",
       "FASTOW ANDREW S                 NaN  True\n",
       "GLISAN JR BEN F                 NaN  True\n",
       "HANNON KEVIN P                  NaN  True\n",
       "HIRKO JOSEPH                    NaN  True\n",
       "KOENIG MARK E                   NaN  True\n",
       "KOPPER MICHAEL J                NaN  True\n",
       "LAY KENNETH L                   NaN  True\n",
       "RICE KENNETH D                  NaN  True\n",
       "RIEKER PAULA H                  NaN  True\n",
       "SHELBY REX                      NaN  True\n",
       "SKILLING JEFFREY K              NaN  True\n",
       "YEAGER F SCOTT                  NaN  True"
      ]
     },
     "execution_count": 19,
     "metadata": {},
     "output_type": "execute_result"
    }
   ],
   "source": [
    "# Show director fees where the POI is true\n",
    "temp = df[['director_fees', 'poi']]\n",
    "temp[temp.poi==True]"
   ]
  },
  {
   "cell_type": "markdown",
   "metadata": {},
   "source": [
    "So if someone does not take director's fee can we say that they are POI?\n",
    "If we include this in our features list, this might introduces biases and mistakes. So to avoid that I am **not** going to include features that has 60% or more NaN to begin with. Of course including it might actually be useful. But for now I will start with those features that does not have too much NaN value."
   ]
  },
  {
   "cell_type": "markdown",
   "metadata": {},
   "source": [
    "We have looked at the distribution by column. But we can also consider this. If a row in the data is fill with mostly NA, we might need to exclude the data."
   ]
  },
  {
   "cell_type": "code",
   "execution_count": 20,
   "metadata": {
    "collapsed": false
   },
   "outputs": [
    {
     "name": "stdout",
     "output_type": "stream",
     "text": [
      "                 GRAMM WENDY L   17   80.95%\n",
      "             LOCKHART EUGENE E   19   90.47%\n",
      "             SCRIMSHAW MATTHEW   17   80.95%\n",
      "                WHALEY DAVID A   17   80.95%\n",
      "                 WODRASKA JOHN   17   80.95%\n",
      "                  WROBEL BRUCE   17   80.95%\n"
     ]
    }
   ],
   "source": [
    "transposed = df.transpose()\n",
    "for idx, item in enumerate(transposed.isnull().sum()):\n",
    "    # Since there is 144 entry, let's just print the row, if it\n",
    "    # has 17 column mark as NaN (around 80%).\n",
    "    if item >= 17:\n",
    "        print \"%30s %4s %7.5s%%\" % (transposed.columns[idx], item, (item * 100.0) / len(transposed))"
   ]
  },
  {
   "cell_type": "markdown",
   "metadata": {},
   "source": [
    "After looking at each of the row above. Other then 'LOCKHART EUGENE E' every other entry seems to have at least one valid information. So I am going to remove 'LOCKHART EUGENE E'."
   ]
  },
  {
   "cell_type": "code",
   "execution_count": 21,
   "metadata": {
    "collapsed": false
   },
   "outputs": [
    {
     "data": {
      "text/plain": [
       "bonus                          NaN\n",
       "deferral_payments              NaN\n",
       "deferred_income                NaN\n",
       "director_fees                  NaN\n",
       "email_address                  NaN\n",
       "exercised_stock_options        NaN\n",
       "expenses                       NaN\n",
       "from_messages                  NaN\n",
       "from_poi_to_this_person        NaN\n",
       "from_this_person_to_poi        NaN\n",
       "loan_advances                  NaN\n",
       "long_term_incentive            NaN\n",
       "other                          NaN\n",
       "poi                          False\n",
       "restricted_stock               NaN\n",
       "restricted_stock_deferred      NaN\n",
       "salary                         NaN\n",
       "shared_receipt_with_poi        NaN\n",
       "to_messages                    NaN\n",
       "total_payments                 NaN\n",
       "total_stock_value              NaN\n",
       "Name: LOCKHART EUGENE E, dtype: object"
      ]
     },
     "execution_count": 21,
     "metadata": {},
     "output_type": "execute_result"
    }
   ],
   "source": [
    "# Let's take a look at the entry\n",
    "df.loc['LOCKHART EUGENE E']"
   ]
  },
  {
   "cell_type": "code",
   "execution_count": 22,
   "metadata": {
    "collapsed": false
   },
   "outputs": [],
   "source": [
    "# Drop the entry\n",
    "df.drop(df.index[df.index == 'LOCKHART EUGENE E'], inplace=True)"
   ]
  },
  {
   "cell_type": "code",
   "execution_count": 23,
   "metadata": {
    "collapsed": false
   },
   "outputs": [
    {
     "data": {
      "text/plain": [
       "True"
      ]
     },
     "execution_count": 23,
     "metadata": {},
     "output_type": "execute_result"
    }
   ],
   "source": [
    "# Verify if the entry is gone\n",
    "'LOCKHART EUGENE E' not in list(df.index)"
   ]
  },
  {
   "cell_type": "code",
   "execution_count": 24,
   "metadata": {
    "collapsed": false
   },
   "outputs": [
    {
     "data": {
      "text/plain": [
       "143"
      ]
     },
     "execution_count": 24,
     "metadata": {},
     "output_type": "execute_result"
    }
   ],
   "source": [
    "# Recheck our data entry\n",
    "len(df)"
   ]
  },
  {
   "cell_type": "markdown",
   "metadata": {},
   "source": [
    "Okay so in the end we have **143 row**."
   ]
  },
  {
   "cell_type": "markdown",
   "metadata": {},
   "source": [
    "### 1.3 POI allocation\n",
    "\n",
    "Let's also take a look at how many rows that has 'poi' marked as True."
   ]
  },
  {
   "cell_type": "code",
   "execution_count": 25,
   "metadata": {
    "collapsed": false
   },
   "outputs": [
    {
     "data": {
      "text/plain": [
       "18"
      ]
     },
     "execution_count": 25,
     "metadata": {},
     "output_type": "execute_result"
    }
   ],
   "source": [
    "len(df[df.poi == True])"
   ]
  },
  {
   "cell_type": "markdown",
   "metadata": {},
   "source": [
    "That means only about 12% (18/145) of the entire data that is marked as POI. This make sense, big corporation like Enron typically only have a handful of people making the calls."
   ]
  },
  {
   "cell_type": "markdown",
   "metadata": {},
   "source": [
    "### 1.4 Data distribution\n",
    "\n",
    "Let's do a simple distribution plot for the each of the feature."
   ]
  },
  {
   "cell_type": "code",
   "execution_count": 26,
   "metadata": {
    "collapsed": false
   },
   "outputs": [
    {
     "data": {
      "image/png": "[encoded data removed]",
      "text/plain": [
       "<matplotlib.figure.Figure at 0x108290950>"
      ]
     },
     "metadata": {},
     "output_type": "display_data"
    },
    {
     "data": {
      "image/png": "[encoded data removed]",
      "text/plain": [
       "<matplotlib.figure.Figure at 0x108290a90>"
      ]
     },
     "metadata": {},
     "output_type": "display_data"
    },
    {
     "data": {
      "image/png": "[encoded data removed]",
      "text/plain": [
       "<matplotlib.figure.Figure at 0x1082c6dd0>"
      ]
     },
     "metadata": {},
     "output_type": "display_data"
    },
    {
     "data": {
      "image/png": "[encoded data removed]",
      "text/plain": [
       "<matplotlib.figure.Figure at 0x10841b2d0>"
      ]
     },
     "metadata": {},
     "output_type": "display_data"
    },
    {
     "data": {
      "image/png": "[encoded data removed]",
      "text/plain": [
       "<matplotlib.figure.Figure at 0x1084dc350>"
      ]
     },
     "metadata": {},
     "output_type": "display_data"
    },
    {
     "data": {
      "image/png": "[encoded data removed]",
      "text/plain": [
       "<matplotlib.figure.Figure at 0x10856b0d0>"
      ]
     },
     "metadata": {},
     "output_type": "display_data"
    },
    {
     "data": {
      "image/png": "[encoded data removed]",
      "text/plain": [
       "<matplotlib.figure.Figure at 0x1085c1350>"
      ]
     },
     "metadata": {},
     "output_type": "display_data"
    },
    {
     "data": {
      "image/png": "[encoded data removed]",
      "text/plain": [
       "<matplotlib.figure.Figure at 0x1086ce210>"
      ]
     },
     "metadata": {},
     "output_type": "display_data"
    },
    {
     "data": {
      "image/png": "[encoded data removed]",
      "text/plain": [
       "<matplotlib.figure.Figure at 0x108638390>"
      ]
     },
     "metadata": {},
     "output_type": "display_data"
    },
    {
     "data": {
      "image/png": "[encoded data removed]",
      "text/plain": [
       "<matplotlib.figure.Figure at 0x108815a90>"
      ]
     },
     "metadata": {},
     "output_type": "display_data"
    },
    {
     "data": {
      "image/png": "[encoded data removed]",
      "text/plain": [
       "<matplotlib.figure.Figure at 0x1088b8e10>"
      ]
     },
     "metadata": {},
     "output_type": "display_data"
    },
    {
     "data": {
      "image/png": "[encoded data removed]",
      "text/plain": [
       "<matplotlib.figure.Figure at 0x10897a450>"
      ]
     },
     "metadata": {},
     "output_type": "display_data"
    },
    {
     "data": {
      "image/png": "[encoded data removed]",
      "text/plain": [
       "<matplotlib.figure.Figure at 0x108a24f10>"
      ]
     },
     "metadata": {},
     "output_type": "display_data"
    },
    {
     "data": {
      "image/png": "[encoded data removed]",
      "text/plain": [
       "<matplotlib.figure.Figure at 0x1089c7b10>"
      ]
     },
     "metadata": {},
     "output_type": "display_data"
    },
    {
     "data": {
      "image/png": "[encoded data removed]",
      "text/plain": [
       "<matplotlib.figure.Figure at 0x108b808d0>"
      ]
     },
     "metadata": {},
     "output_type": "display_data"
    },
    {
     "data": {
      "image/png": "[encoded data removed]",
      "text/plain": [
       "<matplotlib.figure.Figure at 0x108c19610>"
      ]
     },
     "metadata": {},
     "output_type": "display_data"
    },
    {
     "data": {
      "image/png": "[encoded data removed]",
      "text/plain": [
       "<matplotlib.figure.Figure at 0x108c5fc10>"
      ]
     },
     "metadata": {},
     "output_type": "display_data"
    },
    {
     "data": {
      "image/png": "[encoded data removed]",
      "text/plain": [
       "<matplotlib.figure.Figure at 0x108d7da90>"
      ]
     },
     "metadata": {},
     "output_type": "display_data"
    },
    {
     "data": {
      "image/png": "[encoded data removed]",
      "text/plain": [
       "<matplotlib.figure.Figure at 0x108dcbad0>"
      ]
     },
     "metadata": {},
     "output_type": "display_data"
    }
   ],
   "source": [
    "# List of columns with no features that has more then 60% NaN\n",
    "data_columns = ['bonus', 'exercised_stock_options', 'expenses',\n",
    "                'from_messages', 'from_poi_to_this_person',\n",
    "                'from_this_person_to_poi',  'long_term_incentive', 'other',\n",
    "                'restricted_stock', 'salary', 'shared_receipt_with_poi',\n",
    "                'to_messages', 'total_payments', 'total_stock_value']\n",
    "\n",
    "for item in float_columns:\n",
    "    df[[item]].plot(kind='box', sym='*')"
   ]
  },
  {
   "cell_type": "markdown",
   "metadata": {},
   "source": [
    "For each features there seems to be a lot of outliers. However I am going to leave them. Because I think the outlier can actually act as indicator to help classify the person of interest. For instance in the bonus section, the median is below 1 million, but someone got around 8 million in bonus."
   ]
  },
  {
   "cell_type": "markdown",
   "metadata": {},
   "source": [
    "---"
   ]
  },
  {
   "cell_type": "markdown",
   "metadata": {},
   "source": [
    "## 2. Features selection"
   ]
  },
  {
   "cell_type": "markdown",
   "metadata": {},
   "source": [
    "In the previous section I have reduce the features to 14 from the original 21 features (excluding features with 60% of data is NaN). If we look at the data there are 'from_poi_to_this_person' and 'from_this_person_to_poi' features.\n",
    "The features are not that helpful. Let's add two new features that scale these features by the total number.\n",
    "And let's visualize this."
   ]
  },
  {
   "cell_type": "code",
   "execution_count": 27,
   "metadata": {
    "collapsed": false
   },
   "outputs": [
    {
     "data": {
      "image/png": "[encoded data removed]",
      "text/plain": [
       "<matplotlib.figure.Figure at 0x1082a3590>"
      ]
     },
     "metadata": {},
     "output_type": "display_data"
    }
   ],
   "source": [
    "# Fraction from POI\n",
    "df['fraction_from_poi'] = df.apply(lambda x:x['from_poi_to_this_person'] / x['to_messages'], axis=1)\n",
    "\n",
    "# Fraction to POI\n",
    "df['fraction_to_poi'] = df.apply(lambda x:x['from_this_person_to_poi'] / x['from_messages'], axis=1)\n",
    "\n",
    "# Visualize the new features\n",
    "groups = df.groupby(['poi'])\n",
    "plot1 = groups.get_group(True).plot(kind='scatter', x='fraction_from_poi', y='fraction_to_poi',\n",
    "                                    color='DarkBlue', label='POI');\n",
    "\n",
    "groups.get_group(False).plot(kind='scatter', x='fraction_from_poi', y='fraction_to_poi',\n",
    "                            color='DarkRed', label='Non-POI', ax=plot1);"
   ]
  },
  {
   "cell_type": "markdown",
   "metadata": {},
   "source": [
    "The visualization looks pretty good.\n",
    "\n",
    "While the red points aren't particularly tightly clustered.\n",
    "There do seem to be big chunks of feature space where there is no persons of interest at all (fraction_to_poi less than 0.2)."
   ]
  },
  {
   "cell_type": "markdown",
   "metadata": {},
   "source": [
    "So I have minimize the number of features down to 14 from original 21 features and add 2 more new features. Making it a total of 16 features. \n",
    "\n",
    "Let's try to reduce the feature count. We will use SelectKBest feature selection method.\n",
    "I will limit the number of features to be 4 for now and add it later if it is necessary."
   ]
  },
  {
   "cell_type": "code",
   "execution_count": 28,
   "metadata": {
    "collapsed": false
   },
   "outputs": [],
   "source": [
    "from sklearn.feature_selection import SelectKBest\n",
    "from tools.feature_format import featureFormat, targetFeatureSplit\n",
    "\n",
    "\n",
    "def get_k_best_features(data, features_list, k):\n",
    "    # Setup the label and features\n",
    "    data = featureFormat(data, features_list, sort_keys = True)\n",
    "    labels, features = targetFeatureSplit(data)\n",
    "    \n",
    "    # Apply SelectKBest\n",
    "    k_best = SelectKBest(k=k)\n",
    "    k_best.fit(features, labels)\n",
    "    scores = k_best.scores_\n",
    "    \n",
    "    # pair up with feature name, ignore the first one, since \n",
    "    # that is the 'poi' label\n",
    "    unsorted_pairs = zip(features_list[1:], scores)\n",
    "    \n",
    "    # Sort based on score\n",
    "    sorted_pairs = list(sorted(unsorted_pairs, key=lambda x: x[1], reverse=True))\n",
    "\n",
    "    return sorted_pairs"
   ]
  },
  {
   "cell_type": "code",
   "execution_count": 29,
   "metadata": {
    "collapsed": false
   },
   "outputs": [
    {
     "name": "stdout",
     "output_type": "stream",
     "text": [
      "KBest Features scores:\n"
     ]
    },
    {
     "data": {
      "text/plain": [
       "[('exercised_stock_options', 24.815079733218194),\n",
       " ('total_stock_value', 24.182898678566879),\n",
       " ('bonus', 20.792252047181535),\n",
       " ('salary', 18.289684043404513),\n",
       " ('fraction_to_poi', 16.409712548035792),\n",
       " ('long_term_incentive', 9.9221860131898225),\n",
       " ('restricted_stock', 9.2128106219771002),\n",
       " ('total_payments', 8.7727777300916756),\n",
       " ('shared_receipt_with_poi', 8.589420731682381),\n",
       " ('expenses', 6.0941733106389453),\n",
       " ('from_poi_to_this_person', 5.2434497133749582),\n",
       " ('other', 4.1874775069953749),\n",
       " ('fraction_from_poi', 3.1280917481567192),\n",
       " ('from_this_person_to_poi', 2.3826121082276739),\n",
       " ('to_messages', 1.6463411294420076),\n",
       " ('from_messages', 0.16970094762175533)]"
      ]
     },
     "execution_count": 29,
     "metadata": {},
     "output_type": "execute_result"
    }
   ],
   "source": [
    "# Transform the data back to dictionary, the helper library\n",
    "# assume the input is in dictionary.\n",
    "data = df.fillna('NaN').transpose().to_dict()\n",
    "\n",
    "data_columns += ['fraction_from_poi', 'fraction_to_poi']\n",
    "\n",
    "# get K-best features, include 'poi' features, helper library need this\n",
    "kbest_features = get_k_best_features(data, ['poi'] + data_columns, 4)\n",
    "\n",
    "# Print the score\n",
    "print \"KBest Features scores:\"\n",
    "kbest_features"
   ]
  },
  {
   "cell_type": "code",
   "execution_count": 30,
   "metadata": {
    "collapsed": false
   },
   "outputs": [
    {
     "data": {
      "text/plain": [
       "['exercised_stock_options', 'total_stock_value', 'bonus', 'salary']"
      ]
     },
     "execution_count": 30,
     "metadata": {},
     "output_type": "execute_result"
    }
   ],
   "source": [
    "# Get the top 4 features\n",
    "kbest_features = [item[0] for item in kbest_features[:4]]\n",
    "\n",
    "# Let's see the features\n",
    "kbest_features"
   ]
  },
  {
   "cell_type": "markdown",
   "metadata": {},
   "source": [
    "All of our features are financial features. For now we will only use these 4 features. We will add some more features to see if we can improve the result later on but for now let's just use these 4 features."
   ]
  },
  {
   "cell_type": "markdown",
   "metadata": {},
   "source": [
    "## 3. Algorithms"
   ]
  },
  {
   "cell_type": "markdown",
   "metadata": {},
   "source": [
    "First, let's convert the data we processed with Pandas back into dictionary"
   ]
  },
  {
   "cell_type": "code",
   "execution_count": 31,
   "metadata": {
    "collapsed": false
   },
   "outputs": [],
   "source": [
    "new_data = df.fillna('NaN').transpose().to_dict()\n",
    "new_feature_list = ['poi'] + kbest_features"
   ]
  },
  {
   "cell_type": "markdown",
   "metadata": {},
   "source": [
    "### 3.1 Gaussian Naive Bayes\n",
    "\n",
    "Let's rerun the Gaussian Naive Bayes with the new features."
   ]
  },
  {
   "cell_type": "code",
   "execution_count": 32,
   "metadata": {
    "collapsed": false
   },
   "outputs": [
    {
     "name": "stdout",
     "output_type": "stream",
     "text": [
      "GaussianNB()\n",
      "\tAccuracy: 0.84677\tPrecision: 0.50312\tRecall: 0.32300\tF1: 0.39342\tF2: 0.34791\n",
      "\tTotal predictions: 13000\tTrue positives:  646\tFalse positives:  638\tFalse negatives: 1354\tTrue negatives: 10362\n",
      "\n"
     ]
    }
   ],
   "source": [
    "clf = GaussianNB()\n",
    "setup_and_test(new_data, new_feature_list, clf)"
   ]
  },
  {
   "cell_type": "markdown",
   "metadata": {},
   "source": [
    "Things have improved a lot. But the precision is already better then 0.3.\n",
    "Let's see if other algorithm can beat this."
   ]
  },
  {
   "cell_type": "markdown",
   "metadata": {},
   "source": [
    "### 3.2 Linear SVM"
   ]
  },
  {
   "cell_type": "code",
   "execution_count": 33,
   "metadata": {
    "collapsed": false,
    "scrolled": true
   },
   "outputs": [
    {
     "name": "stdout",
     "output_type": "stream",
     "text": [
      "LinearSVC(C=1.0, class_weight=None, dual=True, fit_intercept=True,\n",
      "     intercept_scaling=1, loss='squared_hinge', max_iter=1000,\n",
      "     multi_class='ovr', penalty='l2', random_state=None, tol=0.0001,\n",
      "     verbose=0)\n",
      "\tAccuracy: 0.68031\tPrecision: 0.17393\tRecall: 0.28750\tF1: 0.21674\tF2: 0.25429\n",
      "\tTotal predictions: 13000\tTrue positives:  575\tFalse positives: 2731\tFalse negatives: 1425\tTrue negatives: 8269\n",
      "\n"
     ]
    }
   ],
   "source": [
    "from sklearn import svm\n",
    "\n",
    "clf = svm.LinearSVC()\n",
    "setup_and_test(new_data, new_feature_list, clf)"
   ]
  },
  {
   "cell_type": "markdown",
   "metadata": {},
   "source": [
    "That does not look too good. Let's try to apply scaler on the feature before we run the algorithm."
   ]
  },
  {
   "cell_type": "code",
   "execution_count": 34,
   "metadata": {
    "collapsed": false
   },
   "outputs": [
    {
     "name": "stdout",
     "output_type": "stream",
     "text": [
      "Pipeline(steps=[('normalization', MinMaxScaler(copy=True, feature_range=(0, 1))), ('classifier', LinearSVC(C=1.0, class_weight=None, dual=True, fit_intercept=True,\n",
      "     intercept_scaling=1, loss='squared_hinge', max_iter=1000,\n",
      "     multi_class='ovr', penalty='l2', random_state=None, tol=0.0001,\n",
      "     verbose=0))])\n",
      "\tAccuracy: 0.84746\tPrecision: 0.51919\tRecall: 0.11500\tF1: 0.18829\tF2: 0.13621\n",
      "\tTotal predictions: 13000\tTrue positives:  230\tFalse positives:  213\tFalse negatives: 1770\tTrue negatives: 10787\n",
      "\n"
     ]
    }
   ],
   "source": [
    "from sklearn.pipeline import Pipeline\n",
    "from sklearn.preprocessing import MinMaxScaler\n",
    "\n",
    "scaler = MinMaxScaler()\n",
    "pipeline = Pipeline([('normalization', scaler),\n",
    "                     ('classifier', clf)\n",
    "])\n",
    "\n",
    "setup_and_test(new_data, new_feature_list, pipeline)\n"
   ]
  },
  {
   "cell_type": "markdown",
   "metadata": {},
   "source": [
    "Much better, but the recall is pretty low, which mean our algorithm tend to mark people as non-POI.\n",
    "\n",
    "We haven't tune the parameter for the Linear SVC above so let's try to do it now."
   ]
  },
  {
   "cell_type": "code",
   "execution_count": 35,
   "metadata": {
    "collapsed": false
   },
   "outputs": [
    {
     "name": "stdout",
     "output_type": "stream",
     "text": [
      "Pipeline(steps=[('normalization', MinMaxScaler(copy=True, feature_range=(0, 1))), ('classifier', LinearSVC(C=1.0, class_weight=None, dual=False, fit_intercept=True,\n",
      "     intercept_scaling=1, loss='squared_hinge', max_iter=1000,\n",
      "     multi_class='ovr', penalty='l1', random_state=None, tol=0.0001,\n",
      "     verbose=0))])\n",
      "\tAccuracy: 0.84815\tPrecision: 0.53186\tRecall: 0.10850\tF1: 0.18023\tF2: 0.12904\n",
      "\tTotal predictions: 13000\tTrue positives:  217\tFalse positives:  191\tFalse negatives: 1783\tTrue negatives: 10809\n",
      "\n"
     ]
    }
   ],
   "source": [
    "clf = svm.LinearSVC(dual=False, loss='squared_hinge', penalty='l1')\n",
    "pipeline = Pipeline([('normalization', scaler),\n",
    "                     ('classifier', clf)\n",
    "])\n",
    "\n",
    "setup_and_test(new_data, new_feature_list, pipeline)"
   ]
  },
  {
   "cell_type": "markdown",
   "metadata": {},
   "source": [
    "Let's try to use GridSearch to tune the parameters."
   ]
  },
  {
   "cell_type": "code",
   "execution_count": 36,
   "metadata": {
    "collapsed": false
   },
   "outputs": [
    {
     "name": "stdout",
     "output_type": "stream",
     "text": [
      "Tuned Linear SVC estimator is: \n",
      "LinearSVC(C=1.0, class_weight=None, dual=True, fit_intercept=True,\n",
      "     intercept_scaling=1, loss='hinge', max_iter=1000, multi_class='ovr',\n",
      "     penalty='l2', random_state=None, tol=0.0001, verbose=0)\n",
      "0.861538461538\n",
      "\n",
      "Pipeline(steps=[('normalization', MinMaxScaler(copy=True, feature_range=(0, 1))), ('classifier', LinearSVC(C=1.0, class_weight=None, dual=True, fit_intercept=True,\n",
      "     intercept_scaling=1, loss='hinge', max_iter=1000, multi_class='ovr',\n",
      "     penalty='l2', random_state=None, tol=0.0001, verbose=0))])\n",
      "\tAccuracy: 0.84631\tPrecision: 0.75000\tRecall: 0.00150\tF1: 0.00299\tF2: 0.00187\n",
      "\tTotal predictions: 13000\tTrue positives:    3\tFalse positives:    1\tFalse negatives: 1997\tTrue negatives: 10999\n",
      "\n"
     ]
    }
   ],
   "source": [
    "from sklearn.grid_search import GridSearchCV\n",
    "\n",
    "data2 = featureFormat(new_data, new_feature_list)\n",
    "labels, features = targetFeatureSplit(data2)\n",
    "\n",
    "# Scale the features\n",
    "features = MinMaxScaler().fit_transform(features)\n",
    "\n",
    "loss = ['hinge', 'squared_hinge', ]\n",
    "penalty = ['l2']\n",
    "multi_class = ['ovr', 'crammer_singer']\n",
    "param_grid = dict(loss=loss, penalty=penalty)\n",
    "clf_lsvc = GridSearchCV(svm.LinearSVC(), param_grid=param_grid)\n",
    "clf_lsvc.fit(features, labels)\n",
    "print \"Tuned Linear SVC estimator is: \\n\", clf_lsvc.best_estimator_\n",
    "print clf_lsvc.best_score_\n",
    "print \"\"\n",
    "clf_lsvc = clf_lsvc.best_estimator_\n",
    "\n",
    "pipeline = Pipeline([('normalization', scaler),\n",
    "                     ('classifier', clf_lsvc)\n",
    "])\n",
    "\n",
    "setup_and_test(new_data, new_feature_list, pipeline)"
   ]
  },
  {
   "cell_type": "markdown",
   "metadata": {},
   "source": [
    "That is actually terrible, while the precision is up significantly the recall is bad. Also we only predicted 3 True Positives.\n",
    "\n",
    "Let's add some cross validation to our GridSearchCV, instead of using the default one."
   ]
  },
  {
   "cell_type": "code",
   "execution_count": 37,
   "metadata": {
    "collapsed": false
   },
   "outputs": [
    {
     "name": "stdout",
     "output_type": "stream",
     "text": [
      "Tuned Linear SVC estimator is: \n",
      "LinearSVC(C=1.0, class_weight=None, dual=True, fit_intercept=True,\n",
      "     intercept_scaling=1, loss='hinge', max_iter=1000, multi_class='ovr',\n",
      "     penalty='l2', random_state=None, tol=0.0001, verbose=0)\n",
      "0.846153846154\n",
      "Pipeline(steps=[('normalization', MinMaxScaler(copy=True, feature_range=(0, 1))), ('classifier', LinearSVC(C=1.0, class_weight=None, dual=True, fit_intercept=True,\n",
      "     intercept_scaling=1, loss='hinge', max_iter=1000, multi_class='ovr',\n",
      "     penalty='l2', random_state=None, tol=0.0001, verbose=0))])\n",
      "\tAccuracy: 0.84631\tPrecision: 0.75000\tRecall: 0.00150\tF1: 0.00299\tF2: 0.00187\n",
      "\tTotal predictions: 13000\tTrue positives:    3\tFalse positives:    1\tFalse negatives: 1997\tTrue negatives: 10999\n",
      "\n"
     ]
    }
   ],
   "source": [
    "from sklearn.cross_validation import StratifiedShuffleSplit\n",
    "\n",
    "data2 = featureFormat(new_data, new_feature_list)\n",
    "labels, features = targetFeatureSplit(data2)\n",
    "\n",
    "# Scale the features\n",
    "features = MinMaxScaler().fit_transform(features)\n",
    "\n",
    "cv = StratifiedShuffleSplit(labels, 1000, random_state=17)\n",
    "\n",
    "loss = ['hinge', 'squared_hinge', ]\n",
    "penalty = ['l2']\n",
    "multi_class = ['ovr', 'crammer_singer']\n",
    "param_grid = dict(loss=loss, penalty=penalty)\n",
    "clf_lsvc = GridSearchCV(svm.LinearSVC(), param_grid=param_grid, cv=cv)\n",
    "clf_lsvc.fit(features, labels)\n",
    "\n",
    "print \"Tuned Linear SVC estimator is: \\n\", clf_lsvc.best_estimator_\n",
    "print clf_lsvc.best_score_\n",
    "\n",
    "clf_lsvc = clf_lsvc.best_estimator_\n",
    "pipeline = Pipeline([('normalization', scaler),\n",
    "                     ('classifier', clf_lsvc)\n",
    "])\n",
    "\n",
    "setup_and_test(new_data, new_feature_list, pipeline)"
   ]
  },
  {
   "cell_type": "markdown",
   "metadata": {},
   "source": [
    "Okay this is not getting any good. So we will leave this for now."
   ]
  },
  {
   "cell_type": "markdown",
   "metadata": {},
   "source": [
    "### 3.3 Select KNeighbors"
   ]
  },
  {
   "cell_type": "code",
   "execution_count": 38,
   "metadata": {
    "collapsed": false
   },
   "outputs": [
    {
     "name": "stdout",
     "output_type": "stream",
     "text": [
      "KNeighborsClassifier(algorithm='auto', leaf_size=30, metric='minkowski',\n",
      "           metric_params=None, n_jobs=1, n_neighbors=5, p=2,\n",
      "           weights='uniform')\n",
      "\tAccuracy: 0.86615\tPrecision: 0.65971\tRecall: 0.26850\tF1: 0.38166\tF2: 0.30463\n",
      "\tTotal predictions: 13000\tTrue positives:  537\tFalse positives:  277\tFalse negatives: 1463\tTrue negatives: 10723\n",
      "\n"
     ]
    }
   ],
   "source": [
    "from sklearn.neighbors import KNeighborsClassifier\n",
    "\n",
    "clf = KNeighborsClassifier()\n",
    "setup_and_test(new_data, new_feature_list, clf)"
   ]
  },
  {
   "cell_type": "markdown",
   "metadata": {},
   "source": [
    "This is not bad, by using the default parameters we already get much better precision and recall then Linear SVM.\n",
    "Let's again turn to GridSearchCV to get the best parameter"
   ]
  },
  {
   "cell_type": "code",
   "execution_count": 39,
   "metadata": {
    "collapsed": false
   },
   "outputs": [
    {
     "name": "stdout",
     "output_type": "stream",
     "text": [
      "Tuned KNeighborsClassier estimator is: \n",
      "KNeighborsClassifier(algorithm='auto', leaf_size=30, metric='minkowski',\n",
      "           metric_params=None, n_jobs=1, n_neighbors=5, p=2,\n",
      "           weights='distance')\n"
     ]
    }
   ],
   "source": [
    "from sklearn.cross_validation import StratifiedShuffleSplit\n",
    "from sklearn.grid_search import GridSearchCV\n",
    "\n",
    "# Setup label and features\n",
    "data2 = featureFormat(new_data, new_feature_list)\n",
    "labels, features = targetFeatureSplit(data2)\n",
    "\n",
    "# Parameters to be tuned\n",
    "metrics = ['minkowski', 'euclidean', 'manhattan']\n",
    "weights = ['uniform', 'distance']\n",
    "n_neighbors = [1,2,3,4,5,6,7,8,9,10]\n",
    "param_grid_knc = dict(metric=metrics, weights=weights, n_neighbors=n_neighbors)\n",
    "\n",
    "# Setup cross validation\n",
    "cv = StratifiedShuffleSplit(labels, 1000, random_state=17)\n",
    "\n",
    "# Run the GridSearch\n",
    "clf_knc = GridSearchCV(KNeighborsClassifier(), param_grid=param_grid_knc, cv=cv)\n",
    "clf_knc.fit(features, labels)\n",
    "\n",
    "# Print out info\n",
    "print \"Tuned KNeighborsClassier estimator is: \\n\", clf_knc.best_estimator_"
   ]
  },
  {
   "cell_type": "code",
   "execution_count": 40,
   "metadata": {
    "collapsed": false
   },
   "outputs": [
    {
     "name": "stdout",
     "output_type": "stream",
     "text": [
      "KNeighborsClassifier(algorithm='auto', leaf_size=30, metric='minkowski',\n",
      "           metric_params=None, n_jobs=1, n_neighbors=5, p=2,\n",
      "           weights='distance')\n",
      "\tAccuracy: 0.87800\tPrecision: 0.69602\tRecall: 0.36750\tF1: 0.48102\tF2: 0.40581\n",
      "\tTotal predictions: 13000\tTrue positives:  735\tFalse positives:  321\tFalse negatives: 1265\tTrue negatives: 10679\n",
      "\n"
     ]
    }
   ],
   "source": [
    "setup_and_test(new_data, new_feature_list, clf_knc.best_estimator_)"
   ]
  },
  {
   "cell_type": "markdown",
   "metadata": {},
   "source": [
    "# 4. Conclusion\n",
    "\n",
    "After runing KNeighborsClassifier, we have hit our goal of getting at least **0.3** for both Precision and Recall."
   ]
  }
 ],
 "metadata": {
  "kernelspec": {
   "display_name": "Python 2",
   "language": "python",
   "name": "python2"
  },
  "language_info": {
   "codemirror_mode": {
    "name": "ipython",
    "version": 2
   },
   "file_extension": ".py",
   "mimetype": "text/x-python",
   "name": "python",
   "nbconvert_exporter": "python",
   "pygments_lexer": "ipython2",
   "version": "2.7.9"
  }
 },
 "nbformat": 4,
 "nbformat_minor": 0
}
